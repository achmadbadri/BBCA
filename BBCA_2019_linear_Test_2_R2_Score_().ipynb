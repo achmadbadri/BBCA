{
  "nbformat": 4,
  "nbformat_minor": 0,
  "metadata": {
    "colab": {
      "name": "BBCA 2019 - linear - Test 2 - R2 Score ()",
      "provenance": [],
      "collapsed_sections": [],
      "include_colab_link": true
    },
    "kernelspec": {
      "display_name": "Python 3",
      "name": "python3"
    }
  },
  "cells": [
    {
      "cell_type": "markdown",
      "metadata": {
        "id": "view-in-github",
        "colab_type": "text"
      },
      "source": [
        "<a href=\"https://colab.research.google.com/github/achmadbadri/BBCA/blob/main/BBCA_2019_linear_Test_2_R2_Score_().ipynb\" target=\"_parent\"><img src=\"https://colab.research.google.com/assets/colab-badge.svg\" alt=\"Open In Colab\"/></a>"
      ]
    },
    {
      "cell_type": "code",
      "metadata": {
        "id": "imVL_RBkSiEM"
      },
      "source": [
        "import keras\n",
        "from keras.layers import Dense\n",
        "from keras.layers import LSTM\n",
        "from keras.layers import Dropout\n",
        "import pandas as pd \n",
        "import pandas_datareader.data as web\n",
        "import datetime\n",
        "import numpy as np \n",
        "from matplotlib import style\n",
        "from google.colab import files\n",
        "# Visualize the training stock data:\n",
        "import matplotlib.pyplot as plt\n",
        "%matplotlib inline\n",
        "\n",
        "# ignore warnings \n",
        "import warnings\n",
        "warnings.filterwarnings('ignore')"
      ],
      "execution_count": 1,
      "outputs": []
    },
    {
      "cell_type": "code",
      "metadata": {
        "colab": {
          "base_uri": "https://localhost:8080/"
        },
        "id": "7mgHVWneS0-0",
        "outputId": "18453da3-281d-4be4-9479-2d95bc7c133d"
      },
      "source": [
        "# Get the stock data using yahoo API:\n",
        "style.use('ggplot')\n",
        "\n",
        "# get 2014-2018 data to train our model\n",
        "start = datetime.datetime(2014,1,1)\n",
        "end = datetime.datetime(2018,12,31)\n",
        "df = web.DataReader(\"BBRI.JK\", 'yahoo', start, end) \n",
        "\n",
        "# get 2019 data to test our model on \n",
        "start = datetime.datetime(2018,11,13)\n",
        "end = datetime.datetime(2019,12,31)\n",
        "test_df = web.DataReader(\"BBRI.JK\", 'yahoo', start, end) \n",
        "print(df.shape)\n",
        "print(test_df.shape)"
      ],
      "execution_count": 2,
      "outputs": [
        {
          "output_type": "stream",
          "text": [
            "(1251, 6)\n",
            "(292, 6)\n"
          ],
          "name": "stdout"
        }
      ]
    },
    {
      "cell_type": "code",
      "metadata": {
        "colab": {
          "base_uri": "https://localhost:8080/"
        },
        "id": "H598YUDjU7Sd",
        "outputId": "0066d7aa-9c8d-46d7-e8b9-2347354bf720"
      },
      "source": [
        "# Create train set of adj close prices data:\n",
        "train_data = df.loc[:,'Adj Close'].to_numpy()\n",
        "print(train_data.shape) # 1258 \n",
        "\n",
        "\n",
        "# Apply normalization before feeding to LSTM using sklearn:\n",
        "from sklearn.preprocessing import MinMaxScaler\n",
        "\n",
        "scaler = MinMaxScaler()\n",
        "train_data = train_data.reshape(-1,1)\n",
        "\n",
        "scaler.fit(train_data)\n",
        "train_data = scaler.transform(train_data)"
      ],
      "execution_count": 3,
      "outputs": [
        {
          "output_type": "stream",
          "text": [
            "(1251,)\n"
          ],
          "name": "stdout"
        }
      ]
    },
    {
      "cell_type": "code",
      "metadata": {
        "colab": {
          "base_uri": "https://localhost:8080/"
        },
        "id": "8ITZZaGnVFTQ",
        "outputId": "8197c2e8-6798-42ce-b2e5-b91ab573c672"
      },
      "source": [
        "'''Function to create a dataset to feed into an LSTM'''\n",
        "def create_dataset(dataset, look_back):\n",
        "    dataX, dataY = [], []\n",
        "    for i in range(len(dataset)-look_back):\n",
        "        a = dataset[i:(i + look_back), 0]\n",
        "        dataX.append(a)\n",
        "        dataY.append(dataset[i + look_back, 0])\n",
        "    return np.array(dataX), np.array(dataY)\n",
        "    \n",
        "    \n",
        "# Create the data to train our model on:\n",
        "time_steps = 36\n",
        "X_train, y_train = create_dataset(train_data, time_steps)\n",
        "\n",
        "# reshape it [samples, time steps, features]\n",
        "X_train = np.reshape(X_train, (X_train.shape[0], 36, 1))\n",
        "\n",
        "print(X_train.shape)\n",
        "\n",
        "\n",
        "# Visualizing our data with prints: \n",
        "print('X_train:')\n",
        "print(str(scaler.inverse_transform(X_train[0])))\n",
        "print(\"\\n\")\n",
        "print('y_train: ' + str(scaler.inverse_transform(y_train[0].reshape(-1,1)))+'\\n')"
      ],
      "execution_count": 4,
      "outputs": [
        {
          "output_type": "stream",
          "text": [
            "(1215, 36, 1)\n",
            "X_train:\n",
            "[[1151.86120605]\n",
            " [1143.97180176]\n",
            " [1108.46899414]\n",
            " [1116.35864258]\n",
            " [1132.13745117]\n",
            " [1155.80578613]\n",
            " [1199.19787598]\n",
            " [1321.48461914]\n",
            " [1337.26342773]\n",
            " [1278.09240723]\n",
            " [1313.59509277]\n",
            " [1293.87145996]\n",
            " [1313.59509277]\n",
            " [1325.42919922]\n",
            " [1372.76611328]\n",
            " [1325.42919922]\n",
            " [1301.76074219]\n",
            " [1289.92663574]\n",
            " [1309.65026855]\n",
            " [1313.59509277]\n",
            " [1309.65026855]\n",
            " [1305.70556641]\n",
            " [1313.59509277]\n",
            " [1325.42919922]\n",
            " [1376.71069336]\n",
            " [1372.76611328]\n",
            " [1388.54516602]\n",
            " [1368.82116699]\n",
            " [1372.76611328]\n",
            " [1376.71069336]\n",
            " [1412.21325684]\n",
            " [1420.1027832 ]\n",
            " [1479.27368164]\n",
            " [1506.88671875]\n",
            " [1522.66577148]\n",
            " [1522.66577148]]\n",
            "\n",
            "\n",
            "y_train: [[1487.16320801]]\n",
            "\n"
          ],
          "name": "stdout"
        }
      ]
    },
    {
      "cell_type": "code",
      "metadata": {
        "colab": {
          "base_uri": "https://localhost:8080/"
        },
        "id": "pmuzZ5TqVR8O",
        "outputId": "0f8d95b5-241c-430e-9182-cfb3c5d80f33"
      },
      "source": [
        "# Build the model \n",
        "model = keras.Sequential()\n",
        "\n",
        "model.add(LSTM(units = 128, return_sequences = True, input_shape = (X_train.shape[1], 1)))\n",
        "model.add(Dropout(0.2))\n",
        "\n",
        "model.add(LSTM(units = 64, return_sequences = False))\n",
        "model.add(Dropout(0.2))\n",
        "\n",
        "# Output layer\n",
        "model.add(Dense(units = 1, activation= 'linear'))\n",
        "# Compiling the model\n",
        "model.compile(optimizer = 'adam', loss = 'mean_squared_error')\n",
        "\n",
        "# Fitting the model to the Training set\n",
        "history = model.fit(X_train, y_train, epochs = 20, batch_size = 10, validation_split=.30)"
      ],
      "execution_count": 5,
      "outputs": [
        {
          "output_type": "stream",
          "text": [
            "Epoch 1/20\n",
            "85/85 [==============================] - 8s 57ms/step - loss: 0.0150 - val_loss: 0.0025\n",
            "Epoch 2/20\n",
            "85/85 [==============================] - 4s 43ms/step - loss: 0.0019 - val_loss: 0.0019\n",
            "Epoch 3/20\n",
            "85/85 [==============================] - 4s 43ms/step - loss: 0.0017 - val_loss: 0.0019\n",
            "Epoch 4/20\n",
            "85/85 [==============================] - 4s 43ms/step - loss: 0.0014 - val_loss: 0.0018\n",
            "Epoch 5/20\n",
            "85/85 [==============================] - 4s 43ms/step - loss: 0.0015 - val_loss: 0.0016\n",
            "Epoch 6/20\n",
            "85/85 [==============================] - 4s 43ms/step - loss: 0.0015 - val_loss: 0.0021\n",
            "Epoch 7/20\n",
            "85/85 [==============================] - 4s 44ms/step - loss: 0.0014 - val_loss: 0.0064\n",
            "Epoch 8/20\n",
            "85/85 [==============================] - 4s 43ms/step - loss: 0.0019 - val_loss: 0.0048\n",
            "Epoch 9/20\n",
            "85/85 [==============================] - 4s 43ms/step - loss: 0.0014 - val_loss: 0.0050\n",
            "Epoch 10/20\n",
            "85/85 [==============================] - 4s 43ms/step - loss: 0.0012 - val_loss: 0.0016\n",
            "Epoch 11/20\n",
            "85/85 [==============================] - 4s 43ms/step - loss: 0.0012 - val_loss: 0.0013\n",
            "Epoch 12/20\n",
            "85/85 [==============================] - 4s 44ms/step - loss: 0.0011 - val_loss: 0.0018\n",
            "Epoch 13/20\n",
            "85/85 [==============================] - 4s 44ms/step - loss: 0.0012 - val_loss: 0.0016\n",
            "Epoch 14/20\n",
            "85/85 [==============================] - 4s 44ms/step - loss: 0.0014 - val_loss: 0.0012\n",
            "Epoch 15/20\n",
            "85/85 [==============================] - 4s 43ms/step - loss: 9.9357e-04 - val_loss: 0.0012\n",
            "Epoch 16/20\n",
            "85/85 [==============================] - 4s 43ms/step - loss: 9.3071e-04 - val_loss: 0.0012\n",
            "Epoch 17/20\n",
            "85/85 [==============================] - 4s 43ms/step - loss: 0.0011 - val_loss: 0.0019\n",
            "Epoch 18/20\n",
            "85/85 [==============================] - 4s 43ms/step - loss: 0.0010 - val_loss: 0.0012\n",
            "Epoch 19/20\n",
            "85/85 [==============================] - 4s 43ms/step - loss: 9.6160e-04 - val_loss: 0.0011\n",
            "Epoch 20/20\n",
            "85/85 [==============================] - 4s 44ms/step - loss: 8.5919e-04 - val_loss: 0.0016\n"
          ],
          "name": "stdout"
        }
      ]
    },
    {
      "cell_type": "code",
      "metadata": {
        "id": "VJAAJ_3JRVIu",
        "colab": {
          "base_uri": "https://localhost:8080/"
        },
        "outputId": "f498a937-5f9c-40f6-ff0e-f01141b8e6aa"
      },
      "source": [
        "model.summary()"
      ],
      "execution_count": 6,
      "outputs": [
        {
          "output_type": "stream",
          "text": [
            "Model: \"sequential\"\n",
            "_________________________________________________________________\n",
            "Layer (type)                 Output Shape              Param #   \n",
            "=================================================================\n",
            "lstm (LSTM)                  (None, 36, 128)           66560     \n",
            "_________________________________________________________________\n",
            "dropout (Dropout)            (None, 36, 128)           0         \n",
            "_________________________________________________________________\n",
            "lstm_1 (LSTM)                (None, 64)                49408     \n",
            "_________________________________________________________________\n",
            "dropout_1 (Dropout)          (None, 64)                0         \n",
            "_________________________________________________________________\n",
            "dense (Dense)                (None, 1)                 65        \n",
            "=================================================================\n",
            "Total params: 116,033\n",
            "Trainable params: 116,033\n",
            "Non-trainable params: 0\n",
            "_________________________________________________________________\n"
          ],
          "name": "stdout"
        }
      ]
    },
    {
      "cell_type": "code",
      "metadata": {
        "id": "gSKBnwssVVJf",
        "colab": {
          "base_uri": "https://localhost:8080/",
          "height": 298
        },
        "outputId": "1a1568b9-8fa4-4acb-d876-0cf47e7a8557"
      },
      "source": [
        "# Plot training & validation loss values\n",
        "plt.plot(history.history['loss'])\n",
        "plt.plot(history.history['val_loss'])\n",
        "plt.title('Model loss')\n",
        "plt.ylabel('Loss')\n",
        "plt.xlabel('Epoch')\n",
        "plt.legend(['Train', 'Test'], loc='upper left')\n",
        "plt.show()"
      ],
      "execution_count": 7,
      "outputs": [
        {
          "output_type": "display_data",
          "data": {
            "image/png": "[encoded data removed]",
            "text/plain": [
              "<Figure size 432x288 with 1 Axes>"
            ]
          },
          "metadata": {
            "tags": []
          }
        }
      ]
    },
    {
      "cell_type": "code",
      "metadata": {
        "id": "bawmbe-aVYTG"
      },
      "source": [
        "# Get the stock prices for 2019 to have our model make the predictions\n",
        "test_data = test_df['Adj Close'].values\n",
        "test_data = test_data.reshape(-1,1)\n",
        "test_data = scaler.transform(test_data)\n",
        "\n",
        "# Create the data to test our model on:\n",
        "time_steps = 36\n",
        "X_test, y_test = create_dataset(test_data, time_steps)\n",
        "\n",
        "# store the original vals for plotting the predictions \n",
        "y_test = y_test.reshape(-1,1)\n",
        "true = y_test\n",
        "org_y = scaler.inverse_transform(y_test)\n",
        "\n",
        "# reshape it [samples, time steps, features]\n",
        "X_test = np.reshape(X_test, (X_test.shape[0], 36, 1))\n",
        "\n",
        "# Predict the prices with the model\n",
        "predicted_y = model.predict(X_test)\n",
        "pred = predicted_y\n",
        "predicted_y = scaler.inverse_transform(predicted_y)\n"
      ],
      "execution_count": 8,
      "outputs": []
    },
    {
      "cell_type": "code",
      "metadata": {
        "id": "TCYMPV6E6iAl",
        "colab": {
          "base_uri": "https://localhost:8080/"
        },
        "outputId": "7827cbe4-6f17-414e-979a-5ec73ff938b4"
      },
      "source": [
        "# MSE\n",
        "difference_array = np.subtract(true, pred)\n",
        "squared_array = np.square(difference_array)\n",
        "mse = squared_array.mean()\n",
        "print(\"MSE :\", mse)\n",
        "\n",
        "# The RMSE\n",
        "from sklearn.metrics import mean_squared_error, mean_absolute_error\n",
        "print(\"RMSE : %.2f\" % mean_squared_error(true, pred, squared=False))\n",
        "\n",
        "# The MAE\n",
        "print(\"MAE : %.2f\" % mean_absolute_error(true, pred))\n",
        "\n",
        "#Mean Absolute Percentange Error\n",
        "MAPE = np.mean(np.abs((true - pred) / true)) * 100\n",
        "print('MAPE : ', MAPE)\n",
        "\n",
        "# Explained variance score: 1 is perfect prediction\n",
        "from sklearn.metrics import r2_score\n",
        "print('R2 score: %.2f' % r2_score(true, pred))"
      ],
      "execution_count": 9,
      "outputs": [
        {
          "output_type": "stream",
          "text": [
            "MSE : 0.0016744635606302772\n",
            "RMSE : 0.04\n",
            "MAE : 0.03\n",
            "MAPE :  2.992912207691157\n",
            "R2 score: 0.85\n"
          ],
          "name": "stdout"
        }
      ]
    },
    {
      "cell_type": "markdown",
      "metadata": {
        "id": "m0RAfWtxDfnB"
      },
      "source": [
        "We choose the mean square error MSE of all samples as our metric. It can be calculated through Eqn. (47) using test set. Notice that the MSE we calculated are derived from normalized data. That's because there exists huge value gap among di\u000berent stocks. if we use original stock price to evaluate error, the error of high price stocks would probably be much more larger than low price ones, which implies models perform better on high price stocks would very likely to have better overall performance. Thus the performance on low price stocks would become dispensable. To avoid the bias caused by the aforementioned problem we evaluate the error with normalized stock price ranged from -1 to 1. (Li, H., Shen, Y., dan Zhu, Y. 2018. Stock Price Prediction Using attention-based Multi-Input LSTM)"
      ]
    },
    {
      "cell_type": "code",
      "metadata": {
        "id": "Y47_DyXm9Ysk",
        "colab": {
          "base_uri": "https://localhost:8080/",
          "height": 287
        },
        "outputId": "51f6c320-f824-4ab8-c772-47391a0270f3"
      },
      "source": [
        "predicted_y = pd.DataFrame(predicted_y)\n",
        "org_y = pd.DataFrame(org_y)\n",
        "describe = pd.DataFrame()\n",
        "describe['True Price'] = org_y[0]\n",
        "describe['Prediction'] = predicted_y[0]\n",
        "describe['difference'] = org_y[0] - predicted_y[0]\n",
        "describe['MAPE (%)'] = abs(describe['difference']/org_y[0]*100)\n",
        "describe.describe()"
      ],
      "execution_count": 10,
      "outputs": [
        {
          "output_type": "execute_result",
          "data": {
            "text/html": [
              "<div>\n",
              "<style scoped>\n",
              "    .dataframe tbody tr th:only-of-type {\n",
              "        vertical-align: middle;\n",
              "    }\n",
              "\n",
              "    .dataframe tbody tr th {\n",
              "        vertical-align: top;\n",
              "    }\n",
              "\n",
              "    .dataframe thead th {\n",
              "        text-align: right;\n",
              "    }\n",
              "</style>\n",
              "<table border=\"1\" class=\"dataframe\">\n",
              "  <thead>\n",
              "    <tr style=\"text-align: right;\">\n",
              "      <th></th>\n",
              "      <th>True Price</th>\n",
              "      <th>Prediction</th>\n",
              "      <th>difference</th>\n",
              "      <th>MAPE (%)</th>\n",
              "    </tr>\n",
              "  </thead>\n",
              "  <tbody>\n",
              "    <tr>\n",
              "      <th>count</th>\n",
              "      <td>256.000000</td>\n",
              "      <td>256.000000</td>\n",
              "      <td>256.000000</td>\n",
              "      <td>256.000000</td>\n",
              "    </tr>\n",
              "    <tr>\n",
              "      <th>mean</th>\n",
              "      <td>3823.832823</td>\n",
              "      <td>3758.451172</td>\n",
              "      <td>65.381096</td>\n",
              "      <td>2.120279</td>\n",
              "    </tr>\n",
              "    <tr>\n",
              "      <th>std</th>\n",
              "      <td>245.579322</td>\n",
              "      <td>244.380814</td>\n",
              "      <td>70.293163</td>\n",
              "      <td>1.344963</td>\n",
              "    </tr>\n",
              "    <tr>\n",
              "      <th>min</th>\n",
              "      <td>3276.169189</td>\n",
              "      <td>3241.178223</td>\n",
              "      <td>-228.807861</td>\n",
              "      <td>0.000345</td>\n",
              "    </tr>\n",
              "    <tr>\n",
              "      <th>25%</th>\n",
              "      <td>3620.319885</td>\n",
              "      <td>3542.481018</td>\n",
              "      <td>29.456909</td>\n",
              "      <td>1.070149</td>\n",
              "    </tr>\n",
              "    <tr>\n",
              "      <th>50%</th>\n",
              "      <td>3881.332764</td>\n",
              "      <td>3826.598633</td>\n",
              "      <td>71.562500</td>\n",
              "      <td>1.968249</td>\n",
              "    </tr>\n",
              "    <tr>\n",
              "      <th>75%</th>\n",
              "      <td>3994.107666</td>\n",
              "      <td>3919.947205</td>\n",
              "      <td>107.509460</td>\n",
              "      <td>2.937423</td>\n",
              "    </tr>\n",
              "    <tr>\n",
              "      <th>max</th>\n",
              "      <td>4276.044434</td>\n",
              "      <td>4200.005859</td>\n",
              "      <td>241.121094</td>\n",
              "      <td>6.545130</td>\n",
              "    </tr>\n",
              "  </tbody>\n",
              "</table>\n",
              "</div>"
            ],
            "text/plain": [
              "        True Price   Prediction  difference    MAPE (%)\n",
              "count   256.000000   256.000000  256.000000  256.000000\n",
              "mean   3823.832823  3758.451172   65.381096    2.120279\n",
              "std     245.579322   244.380814   70.293163    1.344963\n",
              "min    3276.169189  3241.178223 -228.807861    0.000345\n",
              "25%    3620.319885  3542.481018   29.456909    1.070149\n",
              "50%    3881.332764  3826.598633   71.562500    1.968249\n",
              "75%    3994.107666  3919.947205  107.509460    2.937423\n",
              "max    4276.044434  4200.005859  241.121094    6.545130"
            ]
          },
          "metadata": {
            "tags": []
          },
          "execution_count": 10
        }
      ]
    },
    {
      "cell_type": "code",
      "metadata": {
        "id": "UoSeLi8altE4",
        "colab": {
          "base_uri": "https://localhost:8080/",
          "height": 347
        },
        "outputId": "cee5b7ec-841d-4918-ba6f-add8e5348d0d"
      },
      "source": [
        "describe.head(10)"
      ],
      "execution_count": 11,
      "outputs": [
        {
          "output_type": "execute_result",
          "data": {
            "text/html": [
              "<div>\n",
              "<style scoped>\n",
              "    .dataframe tbody tr th:only-of-type {\n",
              "        vertical-align: middle;\n",
              "    }\n",
              "\n",
              "    .dataframe tbody tr th {\n",
              "        vertical-align: top;\n",
              "    }\n",
              "\n",
              "    .dataframe thead th {\n",
              "        text-align: right;\n",
              "    }\n",
              "</style>\n",
              "<table border=\"1\" class=\"dataframe\">\n",
              "  <thead>\n",
              "    <tr style=\"text-align: right;\">\n",
              "      <th></th>\n",
              "      <th>True Price</th>\n",
              "      <th>Prediction</th>\n",
              "      <th>difference</th>\n",
              "      <th>MAPE (%)</th>\n",
              "    </tr>\n",
              "  </thead>\n",
              "  <tbody>\n",
              "    <tr>\n",
              "      <th>0</th>\n",
              "      <td>3276.169189</td>\n",
              "      <td>3259.479736</td>\n",
              "      <td>16.689453</td>\n",
              "      <td>0.509420</td>\n",
              "    </tr>\n",
              "    <tr>\n",
              "      <th>1</th>\n",
              "      <td>3285.244629</td>\n",
              "      <td>3250.209961</td>\n",
              "      <td>35.034668</td>\n",
              "      <td>1.066425</td>\n",
              "    </tr>\n",
              "    <tr>\n",
              "      <th>2</th>\n",
              "      <td>3321.545654</td>\n",
              "      <td>3241.178223</td>\n",
              "      <td>80.367432</td>\n",
              "      <td>2.419579</td>\n",
              "    </tr>\n",
              "    <tr>\n",
              "      <th>3</th>\n",
              "      <td>3321.545654</td>\n",
              "      <td>3244.399902</td>\n",
              "      <td>77.145752</td>\n",
              "      <td>2.322586</td>\n",
              "    </tr>\n",
              "    <tr>\n",
              "      <th>4</th>\n",
              "      <td>3339.696533</td>\n",
              "      <td>3250.506592</td>\n",
              "      <td>89.189941</td>\n",
              "      <td>2.670600</td>\n",
              "    </tr>\n",
              "    <tr>\n",
              "      <th>5</th>\n",
              "      <td>3375.997314</td>\n",
              "      <td>3261.205322</td>\n",
              "      <td>114.791992</td>\n",
              "      <td>3.400239</td>\n",
              "    </tr>\n",
              "    <tr>\n",
              "      <th>6</th>\n",
              "      <td>3403.223145</td>\n",
              "      <td>3280.568848</td>\n",
              "      <td>122.654297</td>\n",
              "      <td>3.604063</td>\n",
              "    </tr>\n",
              "    <tr>\n",
              "      <th>7</th>\n",
              "      <td>3385.072510</td>\n",
              "      <td>3304.889648</td>\n",
              "      <td>80.182861</td>\n",
              "      <td>2.368719</td>\n",
              "    </tr>\n",
              "    <tr>\n",
              "      <th>8</th>\n",
              "      <td>3439.523926</td>\n",
              "      <td>3318.902832</td>\n",
              "      <td>120.621094</td>\n",
              "      <td>3.506912</td>\n",
              "    </tr>\n",
              "    <tr>\n",
              "      <th>9</th>\n",
              "      <td>3430.448975</td>\n",
              "      <td>3341.145264</td>\n",
              "      <td>89.303711</td>\n",
              "      <td>2.603266</td>\n",
              "    </tr>\n",
              "  </tbody>\n",
              "</table>\n",
              "</div>"
            ],
            "text/plain": [
              "    True Price   Prediction  difference  MAPE (%)\n",
              "0  3276.169189  3259.479736   16.689453  0.509420\n",
              "1  3285.244629  3250.209961   35.034668  1.066425\n",
              "2  3321.545654  3241.178223   80.367432  2.419579\n",
              "3  3321.545654  3244.399902   77.145752  2.322586\n",
              "4  3339.696533  3250.506592   89.189941  2.670600\n",
              "5  3375.997314  3261.205322  114.791992  3.400239\n",
              "6  3403.223145  3280.568848  122.654297  3.604063\n",
              "7  3385.072510  3304.889648   80.182861  2.368719\n",
              "8  3439.523926  3318.902832  120.621094  3.506912\n",
              "9  3430.448975  3341.145264   89.303711  2.603266"
            ]
          },
          "metadata": {
            "tags": []
          },
          "execution_count": 11
        }
      ]
    },
    {
      "cell_type": "code",
      "metadata": {
        "id": "xriB7R_tWpAM",
        "colab": {
          "base_uri": "https://localhost:8080/"
        },
        "outputId": "71a8ece8-cb18-4dd0-bd46-fd5b7361eb63"
      },
      "source": [
        "a = np.array(describe['True Price'])\n",
        "b = np.array(describe['Prediction'])\n",
        "\n",
        "# MSE\n",
        "difference_array = np.subtract(a, b)\n",
        "squared_array = np.square(difference_array)\n",
        "mse = squared_array.mean()\n",
        "print(\"MSE :\", mse)\n",
        "\n",
        "# The RMSE\n",
        "print(\"RMSE: %.2f\" % mean_squared_error(a, b, squared=False))\n",
        "\n",
        "# The MAE\n",
        "print(\"MAE: %.2f\" % mean_absolute_error(a, b))\n",
        "\n",
        "#Mean Absolute Percentange Error\n",
        "c = (np.mean(np.abs((a - b) / a))) * 100\n",
        "print('MAPE : ', c)\n",
        "\n",
        "# Explained variance score: 1 is perfect prediction\n",
        "from sklearn.metrics import r2_score\n",
        "print('R2 score: %.2f' % r2_score(a, b))\n",
        "\n"
      ],
      "execution_count": 12,
      "outputs": [
        {
          "output_type": "stream",
          "text": [
            "MSE : 9196.51519107446\n",
            "RMSE: 95.90\n",
            "MAE: 81.06\n",
            "MAPE :  2.1202792203677685\n",
            "R2 score: 0.85\n"
          ],
          "name": "stdout"
        }
      ]
    },
    {
      "cell_type": "code",
      "metadata": {
        "id": "iozJ262YxuM8",
        "colab": {
          "base_uri": "https://localhost:8080/"
        },
        "outputId": "f8dec57e-6a4f-47c7-f2b2-f55da10869d0"
      },
      "source": [
        "print(model.evaluate(X_train, y_train))\n",
        "print(model.evaluate(X_test, y_test))"
      ],
      "execution_count": 13,
      "outputs": [
        {
          "output_type": "stream",
          "text": [
            "38/38 [==============================] - 1s 18ms/step - loss: 9.1058e-04\n",
            "0.0009105795179493725\n",
            "8/8 [==============================] - 1s 20ms/step - loss: 0.0017\n",
            "0.0016744635067880154\n"
          ],
          "name": "stdout"
        }
      ]
    },
    {
      "cell_type": "code",
      "metadata": {
        "id": "JRT-OjnyZ0PP",
        "colab": {
          "base_uri": "https://localhost:8080/"
        },
        "outputId": "7773729b-4db4-4adb-d1ae-129497708f20"
      },
      "source": [
        "print(model.metrics_names)"
      ],
      "execution_count": 14,
      "outputs": [
        {
          "output_type": "stream",
          "text": [
            "['loss']\n"
          ],
          "name": "stdout"
        }
      ]
    },
    {
      "cell_type": "code",
      "metadata": {
        "id": "qNCPEkeaXNIT"
      },
      "source": [
        "graph  = test_df.drop(test_df.index[0:36])\n",
        "graph.reset_index(inplace=True)\n",
        "graph.rename(columns = {'index':'Date'})\n",
        "graph = graph.drop(columns=['High','Low','Open','Volume','Close'])\n",
        "graph['Predict_Value'] = predicted_y[0]\n",
        "graph.head()\n",
        "graph.set_index('Date', inplace=True)"
      ],
      "execution_count": 15,
      "outputs": []
    },
    {
      "cell_type": "code",
      "metadata": {
        "id": "QF5LdxyJb0bT",
        "colab": {
          "base_uri": "https://localhost:8080/",
          "height": 298
        },
        "outputId": "d79d6434-4c25-4dc6-a6c8-f54ce9f164ed"
      },
      "source": [
        "# plot the results \n",
        "plt.plot(graph['Adj Close'], color = 'red', label = 'Real Stock Price')\n",
        "plt.plot(graph['Predict_Value'], color = 'blue', label = 'Predicted Stock Price')\n",
        "#plt.plot(df['Adj Close'], color = 'black', label = 'Past Stock')\n",
        "plt.title('Stock Price Prediction')\n",
        "plt.xlabel('Time')\n",
        "plt.ylabel('Stock Price')\n",
        "plt.legend()\n",
        "plt.savefig('Stock Price SVR LSTM 1.png')\n",
        "files.download(\"Stock Price SVR LSTM 1.png\")\n",
        "plt.show()"
      ],
      "execution_count": 16,
      "outputs": [
        {
          "output_type": "display_data",
          "data": {
            "application/javascript": [
              "\n",
              "    async function download(id, filename, size) {\n",
              "      if (!google.colab.kernel.accessAllowed) {\n",
              "        return;\n",
              "      }\n",
              "      const div = document.createElement('div');\n",
              "      const label = document.createElement('label');\n",
              "      label.textContent = `Downloading \"${filename}\": `;\n",
              "      div.appendChild(label);\n",
              "      const progress = document.createElement('progress');\n",
              "      progress.max = size;\n",
              "      div.appendChild(progress);\n",
              "      document.body.appendChild(div);\n",
              "\n",
              "      const buffers = [];\n",
              "      let downloaded = 0;\n",
              "\n",
              "      const channel = await google.colab.kernel.comms.open(id);\n",
              "      // Send a message to notify the kernel that we're ready.\n",
              "      channel.send({})\n",
              "\n",
              "      for await (const message of channel.messages) {\n",
              "        // Send a message to notify the kernel that we're ready.\n",
              "        channel.send({})\n",
              "        if (message.buffers) {\n",
              "          for (const buffer of message.buffers) {\n",
              "            buffers.push(buffer);\n",
              "            downloaded += buffer.byteLength;\n",
              "            progress.value = downloaded;\n",
              "          }\n",
              "        }\n",
              "      }\n",
              "      const blob = new Blob(buffers, {type: 'application/binary'});\n",
              "      const a = document.createElement('a');\n",
              "      a.href = window.URL.createObjectURL(blob);\n",
              "      a.download = filename;\n",
              "      div.appendChild(a);\n",
              "      a.click();\n",
              "      div.remove();\n",
              "    }\n",
              "  "
            ],
            "text/plain": [
              "<IPython.core.display.Javascript object>"
            ]
          },
          "metadata": {
            "tags": []
          }
        },
        {
          "output_type": "display_data",
          "data": {
            "application/javascript": [
              "download(\"download_e9191a48-770a-446c-a209-beddfba4178e\", \"Stock Price SVR LSTM 1.png\", 35975)"
            ],
            "text/plain": [
              "<IPython.core.display.Javascript object>"
            ]
          },
          "metadata": {
            "tags": []
          }
        },
        {
          "output_type": "display_data",
          "data": {
            "image/png": "[encoded data removed]",
            "text/plain": [
              "<Figure size 432x288 with 1 Axes>"
            ]
          },
          "metadata": {
            "tags": []
          }
        }
      ]
    },
    {
      "cell_type": "code",
      "metadata": {
        "id": "RRepTsPgEuXx"
      },
      "source": [
        "final  = test_df.drop(test_df.index[0:36])\n",
        "final.reset_index(inplace=True)\n",
        "final.rename(columns = {'index':'Date'})\n",
        "final = final.drop(columns=['High','Low','Open','Volume','Close'])\n",
        "final['Predict_Value'] = predicted_y[0]\n",
        "final['Selisih'] = final['Adj Close'] - final['Predict_Value']\n",
        "final['Lost/Risk (%)'] = abs((final['Adj Close'] - final['Predict_Value'])/final['Predict_Value']*100)\n",
        "final = final.drop(columns=['Adj Close'])"
      ],
      "execution_count": 17,
      "outputs": []
    },
    {
      "cell_type": "code",
      "metadata": {
        "id": "DhwcCvlTySN1"
      },
      "source": [
        "percent = test_df.drop(test_df.index[0:35])\n",
        "percent = percent.drop(test_df.index[-1])\n",
        "percent.reset_index(inplace=True)\n",
        "percent.rename(columns = {'index':'Date'}) \n",
        "percent = percent.drop(columns=['High','Low','Open','Volume','Close'])\n",
        "percent['Next Day'] = predicted_y\n",
        "percent['Plus or Minus']= percent['Adj Close'] - percent['Next Day']\n",
        "percent['Next Day (%)']= (((percent['Adj Close'] - percent['Next Day'])/percent['Adj Close'])*100)"
      ],
      "execution_count": 18,
      "outputs": []
    },
    {
      "cell_type": "code",
      "metadata": {
        "id": "sllI6VucG__o"
      },
      "source": [
        "True_Next_Day = test_df.drop(test_df.index[0:35])\n",
        "True_Next_Day = True_Next_Day.drop(test_df.index[-1])\n",
        "True_Next_Day.reset_index(inplace=True)\n",
        "True_Next_Day.rename(columns = {'index':'Date'}) \n",
        "True_Next_Day = True_Next_Day.drop(columns=['High','Low','Open','Volume','Close'])\n",
        "True_Next_Day['True Next Day'] = org_y\n",
        "True_Next_Day['True Plus or Minus']= (True_Next_Day['Adj Close'] - True_Next_Day['True Next Day'])\n",
        "True_Next_Day['True Next Day (%)']= (((True_Next_Day['Adj Close'] - True_Next_Day['True Next Day'])/True_Next_Day['Adj Close'])*100)\n",
        "True_Next_Day = True_Next_Day.drop(columns=['Adj Close'])"
      ],
      "execution_count": 19,
      "outputs": []
    },
    {
      "cell_type": "code",
      "metadata": {
        "id": "121c4YuD-aJq",
        "colab": {
          "base_uri": "https://localhost:8080/"
        },
        "outputId": "5db11afc-5285-4eb6-c497-e8b638d2bf75"
      },
      "source": [
        "Concating = percent.merge(final, how='outer', on='Date')\n",
        "Concating = Concating.merge(True_Next_Day, how='outer', on='Date')\n",
        "#Concating.set_index('Date', inplace=True)\n",
        "Final_Predict = Concating.copy()\n",
        "Final_Predict['Harga Saham Hari ini'] = Concating['Adj Close']\n",
        "Final_Predict['Prediksi Besok'] = Concating['Plus or Minus']\n",
        "Final_Predict['Harga Besok Sebenarnya'] = Concating['True Plus or Minus']\n",
        "Final_Predict['Prediksi Besok (%)'] = (Concating['Next Day (%)'])\n",
        "Final_Predict['Harga Besok Sebenarnya (%)'] = Concating['True Next Day (%)']\n",
        "Final_Predict['Selisih Prediksi'] = (Final_Predict['Harga Besok Sebenarnya'] - Final_Predict['Prediksi Besok'])\n",
        "Final_Predict['Harga Sebenarnya'] = Concating['True Next Day']\n",
        "Final_Predict['Risk/MAPE(%)'] = (np.abs((Final_Predict['Harga Besok Sebenarnya'] - Final_Predict['Prediksi Besok']) / Final_Predict['Harga Besok Sebenarnya'])) * 100\n",
        "Final_Predict['Risk/MAPE(%)'] = round(Final_Predict['Risk/MAPE(%)'], 2)\n",
        "Final_Predict = Final_Predict.drop(columns=['Adj Close', 'Next Day', 'Plus or Minus', 'Next Day (%)',\n",
        "                                            'Predict_Value', 'Selisih', 'Lost/Risk (%)', 'True Plus or Minus',\n",
        "                                            'True Next Day (%)','True Next Day'])\n",
        "Final_Predict = Final_Predict.replace(0, np.nan)\n",
        "Final_Predict = Final_Predict.dropna()\n",
        "Final_Predict['Prediksi Uptrend'] = Final_Predict['Prediksi Besok'].apply(lambda x: 1 if x >= 0 else 0)\n",
        "Final_Predict['Asli Uptrend'] = Final_Predict['Harga Besok Sebenarnya'].apply(lambda x: 1 if x >= 0 else 0)\n",
        "Final_Predict.set_index('Date', inplace=True)\n",
        "Final_Predict.shape"
      ],
      "execution_count": 20,
      "outputs": [
        {
          "output_type": "execute_result",
          "data": {
            "text/plain": [
              "(226, 10)"
            ]
          },
          "metadata": {
            "tags": []
          },
          "execution_count": 20
        }
      ]
    },
    {
      "cell_type": "markdown",
      "metadata": {
        "id": "-B7BojpJDQgu"
      },
      "source": [
        "Risk Ekspektasi - Blindly belief\n",
        "\n",
        "Logika ekpektasi - Saham A saya beli kemarin Rp. 1000, dan prediksi ML LSTM menginfokan hari ini naik 200 menjadi 1200 sehingga saya tergetkan jual 1200. ketika saya jual 1200, ternyata harga penutupannya 1500, naik 500. berarti selisihnya dari prediksi dan harga asli adalah Rp 300 (Rp. 500 - Rp. 200), menandakan risiko ekpektasinya adalah 20% (Rp 300/1500) dari harga saham, sedangkan risiko ekpektasi kenaikan dan penurunannya adalah 60% dari ekpektasi kehilangan peluang (Ekpektasi peluang = (500-200)/500*100)\n",
        "\n",
        "Risiko Ekpektasi lainnya - \n",
        "Saham A saya beli kemarin Rp. 1000 dengan prediksi ML LSTM hari ini 1200, naik 200 sehingga saya tergetkan jual Rp. 1200. ketika saya melihat saham menyentuh 800, saya pikir itu adalah kesempatan beli karena perkiraan penutupan ML LSTM adalah 1200, dengan harapan mendapat keutungan ketika penutupan. Namun, prediksinya salah, dan ternyata penutupannya adalah 800 dan saham saya tidak laku, dan terjadi penurunan 200 dari hari kemarin. Disini saya kehilangan kesempatan cut loss dan justru menumpuk saham ketika seharusnya cutloss. Jika dikalkulasikan -400 dari harapan awal 1200 menjadi 800 (-200-200), menandakan risk ekpektasi dari harga sahamnya 50% (-400/800*100), atau perbedaan ekpektasinya 200% dari peluang cutloss. Risiko dari ketamakan."
      ]
    },
    {
      "cell_type": "code",
      "metadata": {
        "id": "ookffGOJ-lmk",
        "colab": {
          "base_uri": "https://localhost:8080/",
          "height": 561
        },
        "outputId": "86464ca5-4659-4bf4-9309-d7059700ba94"
      },
      "source": [
        "Final_Predict.head(10)"
      ],
      "execution_count": 21,
      "outputs": [
        {
          "output_type": "execute_result",
          "data": {
            "text/html": [
              "<div>\n",
              "<style scoped>\n",
              "    .dataframe tbody tr th:only-of-type {\n",
              "        vertical-align: middle;\n",
              "    }\n",
              "\n",
              "    .dataframe tbody tr th {\n",
              "        vertical-align: top;\n",
              "    }\n",
              "\n",
              "    .dataframe thead th {\n",
              "        text-align: right;\n",
              "    }\n",
              "</style>\n",
              "<table border=\"1\" class=\"dataframe\">\n",
              "  <thead>\n",
              "    <tr style=\"text-align: right;\">\n",
              "      <th></th>\n",
              "      <th>Harga Saham Hari ini</th>\n",
              "      <th>Prediksi Besok</th>\n",
              "      <th>Harga Besok Sebenarnya</th>\n",
              "      <th>Prediksi Besok (%)</th>\n",
              "      <th>Harga Besok Sebenarnya (%)</th>\n",
              "      <th>Selisih Prediksi</th>\n",
              "      <th>Harga Sebenarnya</th>\n",
              "      <th>Risk/MAPE(%)</th>\n",
              "      <th>Prediksi Uptrend</th>\n",
              "      <th>Asli Uptrend</th>\n",
              "    </tr>\n",
              "    <tr>\n",
              "      <th>Date</th>\n",
              "      <th></th>\n",
              "      <th></th>\n",
              "      <th></th>\n",
              "      <th></th>\n",
              "      <th></th>\n",
              "      <th></th>\n",
              "      <th></th>\n",
              "      <th></th>\n",
              "      <th></th>\n",
              "      <th></th>\n",
              "    </tr>\n",
              "  </thead>\n",
              "  <tbody>\n",
              "    <tr>\n",
              "      <th>2019-01-01</th>\n",
              "      <td>3321.545654</td>\n",
              "      <td>62.065918</td>\n",
              "      <td>45.376465</td>\n",
              "      <td>1.868585</td>\n",
              "      <td>1.366125</td>\n",
              "      <td>-16.689453</td>\n",
              "      <td>3276.169189</td>\n",
              "      <td>36.78</td>\n",
              "      <td>1</td>\n",
              "      <td>1</td>\n",
              "    </tr>\n",
              "    <tr>\n",
              "      <th>2019-01-02</th>\n",
              "      <td>3276.169189</td>\n",
              "      <td>25.959229</td>\n",
              "      <td>-9.075439</td>\n",
              "      <td>0.792365</td>\n",
              "      <td>-0.277014</td>\n",
              "      <td>-35.034668</td>\n",
              "      <td>3285.244629</td>\n",
              "      <td>386.04</td>\n",
              "      <td>1</td>\n",
              "      <td>0</td>\n",
              "    </tr>\n",
              "    <tr>\n",
              "      <th>2019-01-03</th>\n",
              "      <td>3285.244629</td>\n",
              "      <td>44.066406</td>\n",
              "      <td>-36.301025</td>\n",
              "      <td>1.341343</td>\n",
              "      <td>-1.104972</td>\n",
              "      <td>-80.367432</td>\n",
              "      <td>3321.545654</td>\n",
              "      <td>221.39</td>\n",
              "      <td>1</td>\n",
              "      <td>0</td>\n",
              "    </tr>\n",
              "    <tr>\n",
              "      <th>2019-01-07</th>\n",
              "      <td>3321.545654</td>\n",
              "      <td>71.039062</td>\n",
              "      <td>-18.150879</td>\n",
              "      <td>2.138735</td>\n",
              "      <td>-0.546459</td>\n",
              "      <td>-89.189941</td>\n",
              "      <td>3339.696533</td>\n",
              "      <td>491.38</td>\n",
              "      <td>1</td>\n",
              "      <td>0</td>\n",
              "    </tr>\n",
              "    <tr>\n",
              "      <th>2019-01-08</th>\n",
              "      <td>3339.696533</td>\n",
              "      <td>78.491211</td>\n",
              "      <td>-36.300781</td>\n",
              "      <td>2.350250</td>\n",
              "      <td>-1.086948</td>\n",
              "      <td>-114.791992</td>\n",
              "      <td>3375.997314</td>\n",
              "      <td>316.22</td>\n",
              "      <td>1</td>\n",
              "      <td>0</td>\n",
              "    </tr>\n",
              "    <tr>\n",
              "      <th>2019-01-09</th>\n",
              "      <td>3375.997314</td>\n",
              "      <td>95.428467</td>\n",
              "      <td>-27.225830</td>\n",
              "      <td>2.826675</td>\n",
              "      <td>-0.806453</td>\n",
              "      <td>-122.654297</td>\n",
              "      <td>3403.223145</td>\n",
              "      <td>450.51</td>\n",
              "      <td>1</td>\n",
              "      <td>0</td>\n",
              "    </tr>\n",
              "    <tr>\n",
              "      <th>2019-01-10</th>\n",
              "      <td>3403.223145</td>\n",
              "      <td>98.333496</td>\n",
              "      <td>18.150635</td>\n",
              "      <td>2.889423</td>\n",
              "      <td>0.533337</td>\n",
              "      <td>-80.182861</td>\n",
              "      <td>3385.072510</td>\n",
              "      <td>441.76</td>\n",
              "      <td>1</td>\n",
              "      <td>1</td>\n",
              "    </tr>\n",
              "    <tr>\n",
              "      <th>2019-01-11</th>\n",
              "      <td>3385.072510</td>\n",
              "      <td>66.169678</td>\n",
              "      <td>-54.451416</td>\n",
              "      <td>1.954749</td>\n",
              "      <td>-1.608575</td>\n",
              "      <td>-120.621094</td>\n",
              "      <td>3439.523926</td>\n",
              "      <td>221.52</td>\n",
              "      <td>1</td>\n",
              "      <td>0</td>\n",
              "    </tr>\n",
              "    <tr>\n",
              "      <th>2019-01-14</th>\n",
              "      <td>3439.523926</td>\n",
              "      <td>98.378662</td>\n",
              "      <td>9.074951</td>\n",
              "      <td>2.860241</td>\n",
              "      <td>0.263843</td>\n",
              "      <td>-89.303711</td>\n",
              "      <td>3430.448975</td>\n",
              "      <td>984.07</td>\n",
              "      <td>1</td>\n",
              "      <td>1</td>\n",
              "    </tr>\n",
              "    <tr>\n",
              "      <th>2019-01-16</th>\n",
              "      <td>3430.448975</td>\n",
              "      <td>64.750977</td>\n",
              "      <td>-27.225342</td>\n",
              "      <td>1.887537</td>\n",
              "      <td>-0.793638</td>\n",
              "      <td>-91.976318</td>\n",
              "      <td>3457.674316</td>\n",
              "      <td>337.83</td>\n",
              "      <td>1</td>\n",
              "      <td>0</td>\n",
              "    </tr>\n",
              "  </tbody>\n",
              "</table>\n",
              "</div>"
            ],
            "text/plain": [
              "            Harga Saham Hari ini  ...  Asli Uptrend\n",
              "Date                              ...              \n",
              "2019-01-01           3321.545654  ...             1\n",
              "2019-01-02           3276.169189  ...             0\n",
              "2019-01-03           3285.244629  ...             0\n",
              "2019-01-07           3321.545654  ...             0\n",
              "2019-01-08           3339.696533  ...             0\n",
              "2019-01-09           3375.997314  ...             0\n",
              "2019-01-10           3403.223145  ...             1\n",
              "2019-01-11           3385.072510  ...             0\n",
              "2019-01-14           3439.523926  ...             1\n",
              "2019-01-16           3430.448975  ...             0\n",
              "\n",
              "[10 rows x 10 columns]"
            ]
          },
          "metadata": {
            "tags": []
          },
          "execution_count": 21
        }
      ]
    },
    {
      "cell_type": "code",
      "metadata": {
        "id": "nJ8kSjYQ4Mru",
        "colab": {
          "base_uri": "https://localhost:8080/"
        },
        "outputId": "877c1bf5-7ed2-4d70-e715-02f2ea8ca750"
      },
      "source": [
        "MAPE = np.mean(np.abs((Final_Predict['Harga Besok Sebenarnya'] - Final_Predict['Prediksi Besok']) / Final_Predict['Harga Sebenarnya'])) * 100\n",
        "print('Mape :', MAPE)"
      ],
      "execution_count": 22,
      "outputs": [
        {
          "output_type": "stream",
          "text": [
            "Mape : 2.130368642988146\n"
          ],
          "name": "stdout"
        }
      ]
    },
    {
      "cell_type": "code",
      "metadata": {
        "id": "wmiuagMCKc3w",
        "colab": {
          "base_uri": "https://localhost:8080/"
        },
        "outputId": "83a953bc-d472-4c68-c588-366523fa966c"
      },
      "source": [
        "pred_uptrend = Final_Predict['Prediksi Uptrend']\n",
        "true_trend = Final_Predict['Asli Uptrend']\n",
        "\n",
        "# calculate accuracy\n",
        "from sklearn.metrics import accuracy_score\n",
        "Accuracy = accuracy_score(true_trend, pred_uptrend)\n",
        "print('Accuracy :', Accuracy)\n",
        "\n",
        "\n",
        "# calculate prediction\n",
        "from sklearn.metrics import precision_score\n",
        "precision = precision_score(true_trend, pred_uptrend, average='binary')\n",
        "print('Precision : %.3f' % precision)\n",
        "\n",
        "# calculate recall\n",
        "from sklearn.metrics import recall_score\n",
        "recall = recall_score(true_trend, pred_uptrend, average='binary')\n",
        "print('Recall : %.3f' % recall)\n",
        "\n",
        "# calculate score\n",
        "from sklearn.metrics import f1_score\n",
        "score = f1_score(true_trend, pred_uptrend, average='binary')\n",
        "print('F1 Score : %.3f' % score)\n",
        "\n",
        "#AUC Score\n",
        "from sklearn.metrics import roc_auc_score \n",
        "auc = roc_auc_score(true_trend, pred_uptrend)\n",
        "print('AUC Score : ', auc)"
      ],
      "execution_count": 23,
      "outputs": [
        {
          "output_type": "stream",
          "text": [
            "Accuracy : 0.4646017699115044\n",
            "Precision : 0.460\n",
            "Recall : 0.933\n",
            "F1 Score : 0.616\n",
            "AUC Score :  0.4991330390920555\n"
          ],
          "name": "stdout"
        }
      ]
    },
    {
      "cell_type": "code",
      "metadata": {
        "id": "J7yPx3k8WolI",
        "colab": {
          "base_uri": "https://localhost:8080/",
          "height": 337
        },
        "outputId": "799f2330-8aef-4dc1-c827-4770fab9ec5f"
      },
      "source": [
        "from sklearn.metrics import confusion_matrix\n",
        "import seaborn as sns\n",
        "import matplotlib.pyplot as plt\n",
        "\n",
        "confusion_matrix(true_trend, pred_uptrend)\n",
        "plt.figure(figsize = (6, 5))\n",
        "sns.heatmap(confusion_matrix(true_trend, pred_uptrend), annot = True)"
      ],
      "execution_count": 24,
      "outputs": [
        {
          "output_type": "execute_result",
          "data": {
            "text/plain": [
              "<matplotlib.axes._subplots.AxesSubplot at 0x7f289365b590>"
            ]
          },
          "metadata": {
            "tags": []
          },
          "execution_count": 24
        },
        {
          "output_type": "display_data",
          "data": {
            "image/png": "[encoded data removed]",
            "text/plain": [
              "<Figure size 432x360 with 2 Axes>"
            ]
          },
          "metadata": {
            "tags": []
          }
        }
      ]
    },
    {
      "cell_type": "code",
      "metadata": {
        "id": "GL0g9D5qPtTK",
        "colab": {
          "base_uri": "https://localhost:8080/",
          "height": 282
        },
        "outputId": "109028a1-f7ac-421a-a058-30ecc4607afe"
      },
      "source": [
        "from sklearn.metrics import roc_curve \n",
        "fpr, tpr, thresholds = roc_curve(true_trend, pred_uptrend)\n",
        "\n",
        "\n",
        "import matplotlib.pyplot as plt \n",
        "plt.plot(fpr, tpr) \n",
        "plt.xlabel(\"False Positive Rate\") \n",
        "plt.ylabel(\"True Positive Rate\") \n",
        "plt.plot([0, 1], [0, 1], \"k--\") \n",
        "plt.show()"
      ],
      "execution_count": 25,
      "outputs": [
        {
          "output_type": "display_data",
          "data": {
            "image/png": "[encoded data removed]",
            "text/plain": [
              "<Figure size 432x288 with 1 Axes>"
            ]
          },
          "metadata": {
            "tags": []
          }
        }
      ]
    },
    {
      "cell_type": "code",
      "metadata": {
        "id": "kgXVUoOccIB1",
        "colab": {
          "base_uri": "https://localhost:8080/",
          "height": 298
        },
        "outputId": "e49e6c1c-dc11-4b66-cc68-f588e23af8b6"
      },
      "source": [
        "# plot the results \n",
        "plt.plot(Final_Predict['Prediksi Besok'], color = 'red', label = 'Real Stock Price')\n",
        "plt.plot(Final_Predict['Harga Besok Sebenarnya'], color = 'blue', label = 'Predicted Stock Price')\n",
        "#plt.plot(Final_Predict['Risk/MAPE(%)'], color = 'black', label = 'RISK/MAPE(%)')\n",
        "plt.title('Stock Price Prediction')\n",
        "plt.xlabel('Time')\n",
        "plt.ylabel('Stock Price')\n",
        "plt.legend()\n",
        "plt.savefig('Stock Price SVR LSTM 1.png')\n",
        "files.download(\"Stock Price SVR LSTM 1.png\")\n",
        "plt.show()"
      ],
      "execution_count": 26,
      "outputs": [
        {
          "output_type": "display_data",
          "data": {
            "application/javascript": [
              "\n",
              "    async function download(id, filename, size) {\n",
              "      if (!google.colab.kernel.accessAllowed) {\n",
              "        return;\n",
              "      }\n",
              "      const div = document.createElement('div');\n",
              "      const label = document.createElement('label');\n",
              "      label.textContent = `Downloading \"${filename}\": `;\n",
              "      div.appendChild(label);\n",
              "      const progress = document.createElement('progress');\n",
              "      progress.max = size;\n",
              "      div.appendChild(progress);\n",
              "      document.body.appendChild(div);\n",
              "\n",
              "      const buffers = [];\n",
              "      let downloaded = 0;\n",
              "\n",
              "      const channel = await google.colab.kernel.comms.open(id);\n",
              "      // Send a message to notify the kernel that we're ready.\n",
              "      channel.send({})\n",
              "\n",
              "      for await (const message of channel.messages) {\n",
              "        // Send a message to notify the kernel that we're ready.\n",
              "        channel.send({})\n",
              "        if (message.buffers) {\n",
              "          for (const buffer of message.buffers) {\n",
              "            buffers.push(buffer);\n",
              "            downloaded += buffer.byteLength;\n",
              "            progress.value = downloaded;\n",
              "          }\n",
              "        }\n",
              "      }\n",
              "      const blob = new Blob(buffers, {type: 'application/binary'});\n",
              "      const a = document.createElement('a');\n",
              "      a.href = window.URL.createObjectURL(blob);\n",
              "      a.download = filename;\n",
              "      div.appendChild(a);\n",
              "      a.click();\n",
              "      div.remove();\n",
              "    }\n",
              "  "
            ],
            "text/plain": [
              "<IPython.core.display.Javascript object>"
            ]
          },
          "metadata": {
            "tags": []
          }
        },
        {
          "output_type": "display_data",
          "data": {
            "application/javascript": [
              "download(\"download_764f2c34-6d00-496d-ab29-680fcfeb8538\", \"Stock Price SVR LSTM 1.png\", 52254)"
            ],
            "text/plain": [
              "<IPython.core.display.Javascript object>"
            ]
          },
          "metadata": {
            "tags": []
          }
        },
        {
          "output_type": "display_data",
          "data": {
            "image/png": "[encoded data removed]",
            "text/plain": [
              "<Figure size 432x288 with 1 Axes>"
            ]
          },
          "metadata": {
            "tags": []
          }
        }
      ]
    },
    {
      "cell_type": "code",
      "metadata": {
        "id": "towGbwPBLWUk"
      },
      "source": [
        "#### Mencari Data STAT MODEL"
      ],
      "execution_count": 27,
      "outputs": []
    },
    {
      "cell_type": "code",
      "metadata": {
        "id": "UiadXxndQ2NX"
      },
      "source": [
        "a = X_test\n",
        "a = np.reshape(a, (-1, 36))\n",
        "a = scaler.inverse_transform(a)\n",
        "a = pd.DataFrame(a)"
      ],
      "execution_count": 28,
      "outputs": []
    },
    {
      "cell_type": "code",
      "metadata": {
        "id": "ErHLvejACioW"
      },
      "source": [
        "b = y_test\n",
        "#b = np.reshape(b, (-1, 36))\n",
        "b = scaler.inverse_transform(b)\n",
        "b = pd.DataFrame(b)"
      ],
      "execution_count": 29,
      "outputs": []
    },
    {
      "cell_type": "code",
      "metadata": {
        "id": "O62uEaEkLyWO"
      },
      "source": [
        "#OLS Model\n",
        "import statsmodels.api as sm\n",
        "X = a\n",
        "Y = b\n",
        "X = sm.add_constant(X)\n",
        "model_ols = sm.OLS(Y,X)\n",
        "results = model_ols.fit()"
      ],
      "execution_count": 30,
      "outputs": []
    },
    {
      "cell_type": "code",
      "metadata": {
        "id": "_CaG_RGcMpzM",
        "colab": {
          "base_uri": "https://localhost:8080/",
          "height": 1000
        },
        "outputId": "754f6270-a68b-407a-ddf7-78e7349f0606"
      },
      "source": [
        "results.summary()"
      ],
      "execution_count": 31,
      "outputs": [
        {
          "output_type": "execute_result",
          "data": {
            "text/html": [
              "<table class=\"simpletable\">\n",
              "<caption>OLS Regression Results</caption>\n",
              "<tr>\n",
              "  <th>Dep. Variable:</th>            <td>0</td>        <th>  R-squared:         </th> <td>   0.959</td> \n",
              "</tr>\n",
              "<tr>\n",
              "  <th>Model:</th>                   <td>OLS</td>       <th>  Adj. R-squared:    </th> <td>   0.952</td> \n",
              "</tr>\n",
              "<tr>\n",
              "  <th>Method:</th>             <td>Least Squares</td>  <th>  F-statistic:       </th> <td>   141.8</td> \n",
              "</tr>\n",
              "<tr>\n",
              "  <th>Date:</th>             <td>Tue, 18 May 2021</td> <th>  Prob (F-statistic):</th> <td>4.35e-132</td>\n",
              "</tr>\n",
              "<tr>\n",
              "  <th>Time:</th>                 <td>08:07:34</td>     <th>  Log-Likelihood:    </th> <td> -1363.2</td> \n",
              "</tr>\n",
              "<tr>\n",
              "  <th>No. Observations:</th>      <td>   256</td>      <th>  AIC:               </th> <td>   2800.</td> \n",
              "</tr>\n",
              "<tr>\n",
              "  <th>Df Residuals:</th>          <td>   219</td>      <th>  BIC:               </th> <td>   2932.</td> \n",
              "</tr>\n",
              "<tr>\n",
              "  <th>Df Model:</th>              <td>    36</td>      <th>                     </th>     <td> </td>    \n",
              "</tr>\n",
              "<tr>\n",
              "  <th>Covariance Type:</th>      <td>nonrobust</td>    <th>                     </th>     <td> </td>    \n",
              "</tr>\n",
              "</table>\n",
              "<table class=\"simpletable\">\n",
              "<tr>\n",
              "    <td></td>       <th>coef</th>     <th>std err</th>      <th>t</th>      <th>P>|t|</th>  <th>[0.025</th>    <th>0.975]</th>  \n",
              "</tr>\n",
              "<tr>\n",
              "  <th>const</th> <td>  104.5356</td> <td>   56.001</td> <td>    1.867</td> <td> 0.063</td> <td>   -5.833</td> <td>  214.904</td>\n",
              "</tr>\n",
              "<tr>\n",
              "  <th>0</th>     <td>   -0.0742</td> <td>    0.068</td> <td>   -1.090</td> <td> 0.277</td> <td>   -0.208</td> <td>    0.060</td>\n",
              "</tr>\n",
              "<tr>\n",
              "  <th>1</th>     <td>    0.0719</td> <td>    0.097</td> <td>    0.739</td> <td> 0.461</td> <td>   -0.120</td> <td>    0.264</td>\n",
              "</tr>\n",
              "<tr>\n",
              "  <th>2</th>     <td>    0.0766</td> <td>    0.097</td> <td>    0.787</td> <td> 0.432</td> <td>   -0.115</td> <td>    0.269</td>\n",
              "</tr>\n",
              "<tr>\n",
              "  <th>3</th>     <td>    0.0318</td> <td>    0.098</td> <td>    0.326</td> <td> 0.745</td> <td>   -0.161</td> <td>    0.224</td>\n",
              "</tr>\n",
              "<tr>\n",
              "  <th>4</th>     <td>   -0.2069</td> <td>    0.097</td> <td>   -2.142</td> <td> 0.033</td> <td>   -0.397</td> <td>   -0.017</td>\n",
              "</tr>\n",
              "<tr>\n",
              "  <th>5</th>     <td>    0.0370</td> <td>    0.097</td> <td>    0.384</td> <td> 0.701</td> <td>   -0.153</td> <td>    0.227</td>\n",
              "</tr>\n",
              "<tr>\n",
              "  <th>6</th>     <td>    0.1546</td> <td>    0.096</td> <td>    1.618</td> <td> 0.107</td> <td>   -0.034</td> <td>    0.343</td>\n",
              "</tr>\n",
              "<tr>\n",
              "  <th>7</th>     <td>   -0.0423</td> <td>    0.096</td> <td>   -0.439</td> <td> 0.661</td> <td>   -0.232</td> <td>    0.148</td>\n",
              "</tr>\n",
              "<tr>\n",
              "  <th>8</th>     <td>   -0.0557</td> <td>    0.097</td> <td>   -0.573</td> <td> 0.567</td> <td>   -0.247</td> <td>    0.136</td>\n",
              "</tr>\n",
              "<tr>\n",
              "  <th>9</th>     <td>    0.1140</td> <td>    0.097</td> <td>    1.169</td> <td> 0.244</td> <td>   -0.078</td> <td>    0.306</td>\n",
              "</tr>\n",
              "<tr>\n",
              "  <th>10</th>    <td>   -0.1374</td> <td>    0.097</td> <td>   -1.416</td> <td> 0.158</td> <td>   -0.329</td> <td>    0.054</td>\n",
              "</tr>\n",
              "<tr>\n",
              "  <th>11</th>    <td>    0.0708</td> <td>    0.097</td> <td>    0.730</td> <td> 0.466</td> <td>   -0.120</td> <td>    0.262</td>\n",
              "</tr>\n",
              "<tr>\n",
              "  <th>12</th>    <td>    0.0234</td> <td>    0.097</td> <td>    0.241</td> <td> 0.809</td> <td>   -0.168</td> <td>    0.215</td>\n",
              "</tr>\n",
              "<tr>\n",
              "  <th>13</th>    <td>   -0.1009</td> <td>    0.097</td> <td>   -1.038</td> <td> 0.300</td> <td>   -0.293</td> <td>    0.091</td>\n",
              "</tr>\n",
              "<tr>\n",
              "  <th>14</th>    <td>    0.0458</td> <td>    0.098</td> <td>    0.468</td> <td> 0.641</td> <td>   -0.147</td> <td>    0.239</td>\n",
              "</tr>\n",
              "<tr>\n",
              "  <th>15</th>    <td>   -0.1200</td> <td>    0.098</td> <td>   -1.230</td> <td> 0.220</td> <td>   -0.312</td> <td>    0.072</td>\n",
              "</tr>\n",
              "<tr>\n",
              "  <th>16</th>    <td>    0.1845</td> <td>    0.097</td> <td>    1.907</td> <td> 0.058</td> <td>   -0.006</td> <td>    0.375</td>\n",
              "</tr>\n",
              "<tr>\n",
              "  <th>17</th>    <td>   -0.0776</td> <td>    0.097</td> <td>   -0.802</td> <td> 0.424</td> <td>   -0.268</td> <td>    0.113</td>\n",
              "</tr>\n",
              "<tr>\n",
              "  <th>18</th>    <td>    0.1112</td> <td>    0.096</td> <td>    1.157</td> <td> 0.248</td> <td>   -0.078</td> <td>    0.301</td>\n",
              "</tr>\n",
              "<tr>\n",
              "  <th>19</th>    <td>   -0.1222</td> <td>    0.096</td> <td>   -1.274</td> <td> 0.204</td> <td>   -0.311</td> <td>    0.067</td>\n",
              "</tr>\n",
              "<tr>\n",
              "  <th>20</th>    <td>    0.1311</td> <td>    0.096</td> <td>    1.365</td> <td> 0.174</td> <td>   -0.058</td> <td>    0.320</td>\n",
              "</tr>\n",
              "<tr>\n",
              "  <th>21</th>    <td>   -0.1195</td> <td>    0.096</td> <td>   -1.248</td> <td> 0.213</td> <td>   -0.308</td> <td>    0.069</td>\n",
              "</tr>\n",
              "<tr>\n",
              "  <th>22</th>    <td>    0.0151</td> <td>    0.096</td> <td>    0.158</td> <td> 0.875</td> <td>   -0.174</td> <td>    0.204</td>\n",
              "</tr>\n",
              "<tr>\n",
              "  <th>23</th>    <td>   -0.0699</td> <td>    0.096</td> <td>   -0.726</td> <td> 0.468</td> <td>   -0.259</td> <td>    0.120</td>\n",
              "</tr>\n",
              "<tr>\n",
              "  <th>24</th>    <td>    0.0901</td> <td>    0.096</td> <td>    0.939</td> <td> 0.349</td> <td>   -0.099</td> <td>    0.279</td>\n",
              "</tr>\n",
              "<tr>\n",
              "  <th>25</th>    <td>   -0.0245</td> <td>    0.096</td> <td>   -0.254</td> <td> 0.800</td> <td>   -0.214</td> <td>    0.165</td>\n",
              "</tr>\n",
              "<tr>\n",
              "  <th>26</th>    <td>   -0.0084</td> <td>    0.097</td> <td>   -0.087</td> <td> 0.931</td> <td>   -0.200</td> <td>    0.183</td>\n",
              "</tr>\n",
              "<tr>\n",
              "  <th>27</th>    <td>   -0.0378</td> <td>    0.098</td> <td>   -0.388</td> <td> 0.699</td> <td>   -0.230</td> <td>    0.154</td>\n",
              "</tr>\n",
              "<tr>\n",
              "  <th>28</th>    <td>    0.0312</td> <td>    0.097</td> <td>    0.320</td> <td> 0.749</td> <td>   -0.161</td> <td>    0.223</td>\n",
              "</tr>\n",
              "<tr>\n",
              "  <th>29</th>    <td>    0.0154</td> <td>    0.097</td> <td>    0.159</td> <td> 0.874</td> <td>   -0.176</td> <td>    0.207</td>\n",
              "</tr>\n",
              "<tr>\n",
              "  <th>30</th>    <td>    0.0051</td> <td>    0.098</td> <td>    0.052</td> <td> 0.958</td> <td>   -0.187</td> <td>    0.197</td>\n",
              "</tr>\n",
              "<tr>\n",
              "  <th>31</th>    <td>   -0.0323</td> <td>    0.097</td> <td>   -0.332</td> <td> 0.740</td> <td>   -0.224</td> <td>    0.160</td>\n",
              "</tr>\n",
              "<tr>\n",
              "  <th>32</th>    <td>   -0.0737</td> <td>    0.098</td> <td>   -0.751</td> <td> 0.453</td> <td>   -0.267</td> <td>    0.120</td>\n",
              "</tr>\n",
              "<tr>\n",
              "  <th>33</th>    <td>    0.1502</td> <td>    0.097</td> <td>    1.552</td> <td> 0.122</td> <td>   -0.041</td> <td>    0.341</td>\n",
              "</tr>\n",
              "<tr>\n",
              "  <th>34</th>    <td>   -0.1042</td> <td>    0.096</td> <td>   -1.081</td> <td> 0.281</td> <td>   -0.294</td> <td>    0.086</td>\n",
              "</tr>\n",
              "<tr>\n",
              "  <th>35</th>    <td>    1.0212</td> <td>    0.067</td> <td>   15.155</td> <td> 0.000</td> <td>    0.888</td> <td>    1.154</td>\n",
              "</tr>\n",
              "</table>\n",
              "<table class=\"simpletable\">\n",
              "<tr>\n",
              "  <th>Omnibus:</th>       <td> 3.972</td> <th>  Durbin-Watson:     </th> <td>   1.994</td>\n",
              "</tr>\n",
              "<tr>\n",
              "  <th>Prob(Omnibus):</th> <td> 0.137</td> <th>  Jarque-Bera (JB):  </th> <td>   4.615</td>\n",
              "</tr>\n",
              "<tr>\n",
              "  <th>Skew:</th>          <td>-0.099</td> <th>  Prob(JB):          </th> <td>  0.0995</td>\n",
              "</tr>\n",
              "<tr>\n",
              "  <th>Kurtosis:</th>      <td> 3.627</td> <th>  Cond. No.          </th> <td>3.78e+05</td>\n",
              "</tr>\n",
              "</table><br/><br/>Warnings:<br/>[1] Standard Errors assume that the covariance matrix of the errors is correctly specified.<br/>[2] The condition number is large, 3.78e+05. This might indicate that there are<br/>strong multicollinearity or other numerical problems."
            ],
            "text/plain": [
              "<class 'statsmodels.iolib.summary.Summary'>\n",
              "\"\"\"\n",
              "                            OLS Regression Results                            \n",
              "==============================================================================\n",
              "Dep. Variable:                      0   R-squared:                       0.959\n",
              "Model:                            OLS   Adj. R-squared:                  0.952\n",
              "Method:                 Least Squares   F-statistic:                     141.8\n",
              "Date:                Tue, 18 May 2021   Prob (F-statistic):          4.35e-132\n",
              "Time:                        08:07:34   Log-Likelihood:                -1363.2\n",
              "No. Observations:                 256   AIC:                             2800.\n",
              "Df Residuals:                     219   BIC:                             2932.\n",
              "Df Model:                          36                                         \n",
              "Covariance Type:            nonrobust                                         \n",
              "==============================================================================\n",
              "                 coef    std err          t      P>|t|      [0.025      0.975]\n",
              "------------------------------------------------------------------------------\n",
              "const        104.5356     56.001      1.867      0.063      -5.833     214.904\n",
              "0             -0.0742      0.068     -1.090      0.277      -0.208       0.060\n",
              "1              0.0719      0.097      0.739      0.461      -0.120       0.264\n",
              "2              0.0766      0.097      0.787      0.432      -0.115       0.269\n",
              "3              0.0318      0.098      0.326      0.745      -0.161       0.224\n",
              "4             -0.2069      0.097     -2.142      0.033      -0.397      -0.017\n",
              "5              0.0370      0.097      0.384      0.701      -0.153       0.227\n",
              "6              0.1546      0.096      1.618      0.107      -0.034       0.343\n",
              "7             -0.0423      0.096     -0.439      0.661      -0.232       0.148\n",
              "8             -0.0557      0.097     -0.573      0.567      -0.247       0.136\n",
              "9              0.1140      0.097      1.169      0.244      -0.078       0.306\n",
              "10            -0.1374      0.097     -1.416      0.158      -0.329       0.054\n",
              "11             0.0708      0.097      0.730      0.466      -0.120       0.262\n",
              "12             0.0234      0.097      0.241      0.809      -0.168       0.215\n",
              "13            -0.1009      0.097     -1.038      0.300      -0.293       0.091\n",
              "14             0.0458      0.098      0.468      0.641      -0.147       0.239\n",
              "15            -0.1200      0.098     -1.230      0.220      -0.312       0.072\n",
              "16             0.1845      0.097      1.907      0.058      -0.006       0.375\n",
              "17            -0.0776      0.097     -0.802      0.424      -0.268       0.113\n",
              "18             0.1112      0.096      1.157      0.248      -0.078       0.301\n",
              "19            -0.1222      0.096     -1.274      0.204      -0.311       0.067\n",
              "20             0.1311      0.096      1.365      0.174      -0.058       0.320\n",
              "21            -0.1195      0.096     -1.248      0.213      -0.308       0.069\n",
              "22             0.0151      0.096      0.158      0.875      -0.174       0.204\n",
              "23            -0.0699      0.096     -0.726      0.468      -0.259       0.120\n",
              "24             0.0901      0.096      0.939      0.349      -0.099       0.279\n",
              "25            -0.0245      0.096     -0.254      0.800      -0.214       0.165\n",
              "26            -0.0084      0.097     -0.087      0.931      -0.200       0.183\n",
              "27            -0.0378      0.098     -0.388      0.699      -0.230       0.154\n",
              "28             0.0312      0.097      0.320      0.749      -0.161       0.223\n",
              "29             0.0154      0.097      0.159      0.874      -0.176       0.207\n",
              "30             0.0051      0.098      0.052      0.958      -0.187       0.197\n",
              "31            -0.0323      0.097     -0.332      0.740      -0.224       0.160\n",
              "32            -0.0737      0.098     -0.751      0.453      -0.267       0.120\n",
              "33             0.1502      0.097      1.552      0.122      -0.041       0.341\n",
              "34            -0.1042      0.096     -1.081      0.281      -0.294       0.086\n",
              "35             1.0212      0.067     15.155      0.000       0.888       1.154\n",
              "==============================================================================\n",
              "Omnibus:                        3.972   Durbin-Watson:                   1.994\n",
              "Prob(Omnibus):                  0.137   Jarque-Bera (JB):                4.615\n",
              "Skew:                          -0.099   Prob(JB):                       0.0995\n",
              "Kurtosis:                       3.627   Cond. No.                     3.78e+05\n",
              "==============================================================================\n",
              "\n",
              "Warnings:\n",
              "[1] Standard Errors assume that the covariance matrix of the errors is correctly specified.\n",
              "[2] The condition number is large, 3.78e+05. This might indicate that there are\n",
              "strong multicollinearity or other numerical problems.\n",
              "\"\"\""
            ]
          },
          "metadata": {
            "tags": []
          },
          "execution_count": 31
        }
      ]
    }
  ]
}